{
 "cells": [
  {
   "cell_type": "markdown",
   "metadata": {},
   "source": [
    "# YouTube Video Search Python Program\n",
    "Search for YouTube Videos Using Python \n",
    "\n",
    "I was wondering how I could use Python to search for videos on YouTube without having to do it myself.\n",
    "\n",
    "And it was pretty simple!\n",
    "\n",
    "That’s one of the things I love about Python, it allows you to create programs quickly and with just a few lines of code.\n",
    "\n",
    "### Let's begin..."
   ]
  },
  {
   "cell_type": "markdown",
   "metadata": {},
   "source": [
    "1. Import the following packages\n",
    "- urllib.request \n",
    "\n",
    "urllib.request will be used to get the HTML for the search results page on YouTube and print its HTML.\n",
    "\n",
    "- re\n",
    "\n",
    "re if for regular expression. You can find more details about this module [here](https://docs.python.org/3/library/re.html?highlight=re#module-re)\n",
    "\n",
    "- webbrowser\n",
    "\n",
    "This module is used to open links in a default browser. And it will be useful in opening our generated \n",
    "search link in our browser\n",
    "\n",
    "- random\n",
    "\n",
    "used to randomly generate youtube link \n"
   ]
  },
  {
   "cell_type": "code",
   "execution_count": 9,
   "metadata": {},
   "outputs": [],
   "source": [
    "import urllib.request\n",
    "import re\n",
    "import webbrowser\n",
    "import random"
   ]
  },
  {
   "cell_type": "markdown",
   "metadata": {},
   "source": [
    "#### Ask user to enter a keyword or search term"
   ]
  },
  {
   "cell_type": "code",
   "execution_count": 5,
   "metadata": {},
   "outputs": [],
   "source": [
    "search_term = input('Enter a word to search on YouTube: ')"
   ]
  },
  {
   "cell_type": "markdown",
   "metadata": {},
   "source": [
    "#### search for the search term on YouTube\n",
    "Result will be displayed in html and we will use the urllib.request to get this"
   ]
  },
  {
   "cell_type": "code",
   "execution_count": 6,
   "metadata": {},
   "outputs": [],
   "source": [
    "html_search = urllib.request.urlopen('https://www.youtube.com/results?search_query='+ search_term.replace(\" \", \"_\"))"
   ]
  },
  {
   "cell_type": "markdown",
   "metadata": {},
   "source": [
    "##### Results will be list of video ids\n",
    "let's find all videos on youtube with the search word"
   ]
  },
  {
   "cell_type": "code",
   "execution_count": 7,
   "metadata": {},
   "outputs": [],
   "source": [
    "video_ids = re.findall(r\"watch\\?v=(\\S{11})\", html_search.read().decode())"
   ]
  },
  {
   "cell_type": "markdown",
   "metadata": {},
   "source": [
    "attach one video id to youtube link to open video"
   ]
  },
  {
   "cell_type": "code",
   "execution_count": 8,
   "metadata": {},
   "outputs": [],
   "source": [
    "url = \"https://www.youtube.com/watch?v=\" + random.choice(video_ids)\n",
    "urll = \"https://www.youtube.com/watch?v=\" + video_ids[0]"
   ]
  },
  {
   "cell_type": "markdown",
   "metadata": {},
   "source": [
    "- Now open generated video ink in web browser"
   ]
  },
  {
   "cell_type": "code",
   "execution_count": 10,
   "metadata": {},
   "outputs": [
    {
     "data": {
      "text/plain": [
       "True"
      ]
     },
     "execution_count": 10,
     "metadata": {},
     "output_type": "execute_result"
    }
   ],
   "source": [
    "webbrowser.open(url=urll)"
   ]
  }
 ],
 "metadata": {
  "kernelspec": {
   "display_name": "env",
   "language": "python",
   "name": "python3"
  },
  "language_info": {
   "codemirror_mode": {
    "name": "ipython",
    "version": 3
   },
   "file_extension": ".py",
   "mimetype": "text/x-python",
   "name": "python",
   "nbconvert_exporter": "python",
   "pygments_lexer": "ipython3",
   "version": "3.12.4"
  }
 },
 "nbformat": 4,
 "nbformat_minor": 2
}
